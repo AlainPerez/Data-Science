{
  "cells": [
    {
      "cell_type": "markdown",
      "metadata": {
        "id": "EH3b2n-HlkV-"
      },
      "source": [
        "# Módulo de Preprocesamiento II (Ejercicios Prácticos)\n",
        "\n",
        "> Ejemplos generales de preprocesamiento de datos en python\n",
        "\n"
      ]
    },
    {
      "cell_type": "markdown",
      "metadata": {
        "id": "tM-Y3g0sm-iX"
      },
      "source": [
        "# **Importar Dataset**"
      ]
    },
    {
      "cell_type": "code",
      "execution_count": 5,
      "metadata": {
        "id": "qzGylL0a1IP2",
        "vscode": {
          "languageId": "python"
        }
      },
      "outputs": [],
      "source": [
        "# from google.colab import drive\n",
        "# drive.mount('/content/drive')"
      ]
    },
    {
      "cell_type": "markdown",
      "metadata": {
        "id": "rnPg_M7j01fs"
      },
      "source": [
        "Importar y Exportar datos con PANDAS"
      ]
    },
    {
      "cell_type": "code",
      "execution_count": 6,
      "metadata": {
        "id": "2vXmlfwnqzg4",
        "vscode": {
          "languageId": "python"
        }
      },
      "outputs": [],
      "source": [
        "import pandas as pd # Importar la librería Pandas\n",
        "import numpy as np  # Importar la librería Numpy"
      ]
    },
    {
      "cell_type": "code",
      "execution_count": null,
      "metadata": {
        "id": "dB_mb_1fq3yE",
        "vscode": {
          "languageId": "python"
        }
      },
      "outputs": [],
      "source": [
        "df = pd.read_csv(\"glass_with_nulls.csv\", sep=\",\") # Importar del archivo de datos y guardarlo en un DATAFRAME\n",
        "df.head(4)                    # Muestra los cuatro pimeros registros\n"
      ]
    },
    {
      "cell_type": "markdown",
      "metadata": {
        "id": "YoKp0a7O3hBB"
      },
      "source": [
        "#  **Variables Categóricas a Numéricas** "
      ]
    },
    {
      "cell_type": "markdown",
      "metadata": {
        "id": "AdTrGPO5ke9u"
      },
      "source": [
        "OrdinalEncoder"
      ]
    },
    {
      "cell_type": "code",
      "execution_count": null,
      "metadata": {
        "id": "rcD-hSm6KmwA",
        "vscode": {
          "languageId": "python"
        }
      },
      "outputs": [],
      "source": [
        "from sklearn.preprocessing import OrdinalEncoder\n",
        "ordinal_encoder = OrdinalEncoder()          #Codificar consecutivamnete cada valor nominal\n",
        "#sklearn.preprocessing.LabelEncoder para la clase\n",
        "#enc = OrdinalEncoder()\n",
        "#enc.fit(df[[\"Sex\",\"Blood\", \"Study\"]])\n",
        "#df[[\"Sex\",\"Blood\", \"Study\"]] = enc.transform(df[[\"Sex\",\"Blood\", \"Study\"]])\n",
        "#label_encoder = preprocessing.LabelEncoder()\n",
        "#dataset_encoded[\"salary\"] = label_encoder.fit_transform(dataset_encoded[\"salary\"])\n",
        "\n",
        "Type_array = np.array(df['Type']).reshape(-1,1) \n",
        "Type_transformado = ordinal_encoder.fit_transform(Type_array)\n",
        "df_transformado_OE=df.copy()\n",
        "df_transformado_OE.insert(10,\"Type_Encoded\",Type_transformado)   #insertar una columna en un dataframe\n",
        "df_transformado_OE.head(4)          #El problema es que los tipos de vidrio no tienen significado numérico al medir distancias"
      ]
    },
    {
      "cell_type": "markdown",
      "metadata": {
        "id": "EohlkL4kkonA"
      },
      "source": [
        "OneHotEncoder"
      ]
    },
    {
      "cell_type": "code",
      "execution_count": 10,
      "metadata": {
        "id": "Vq51_rjRGhB0",
        "vscode": {
          "languageId": "python"
        }
      },
      "outputs": [],
      "source": [
        "#Codificar cada valor nominal en una nueva columna (https://pandas.pydata.org/pandas-docs/stable/reference/api/pandas.get_dummies.html)\n",
        "\n",
        "one_hot_columns = pd.get_dummies(df.Type,dtype=None)\n"
      ]
    },
    {
      "cell_type": "code",
      "execution_count": 11,
      "metadata": {
        "id": "6XAl9thI8_Xk",
        "vscode": {
          "languageId": "python"
        }
      },
      "outputs": [],
      "source": [
        "df_transformado_OHE=df.copy()\n",
        "df_transformado_OHE.drop(['Type'], axis=1, inplace=True) \n",
        "df_transformado_OHE=pd.concat([df_transformado_OHE, one_hot_columns],axis=1)"
      ]
    },
    {
      "cell_type": "code",
      "execution_count": null,
      "metadata": {
        "id": "LsVvP50kAdz4",
        "vscode": {
          "languageId": "python"
        }
      },
      "outputs": [],
      "source": [
        "df_transformado_OHE"
      ]
    },
    {
      "cell_type": "markdown",
      "metadata": {
        "id": "fDHbUazmPgWv"
      },
      "source": [
        "#  **Valores Nulos** "
      ]
    },
    {
      "cell_type": "markdown",
      "metadata": {
        "id": "3fufVmh_QYjM"
      },
      "source": [
        "Técnica Estadística "
      ]
    },
    {
      "cell_type": "code",
      "execution_count": 13,
      "metadata": {
        "id": "pOOWrP7MsN4B",
        "vscode": {
          "languageId": "python"
        }
      },
      "outputs": [],
      "source": [
        "import numpy as np\n",
        "from sklearn.impute import SimpleImputer   #(https://scikit-learn.org/stable/modules/generated/sklearn.impute.SimpleImputer.html)"
      ]
    },
    {
      "cell_type": "code",
      "execution_count": null,
      "metadata": {
        "vscode": {
          "languageId": "python"
        }
      },
      "outputs": [],
      "source": [
        "# Extraer y transformar el atributo Na\n",
        "Na_array = np.array(df['Na']).reshape(-1,1) \n",
        "print(Na_array)"
      ]
    },
    {
      "cell_type": "code",
      "execution_count": 14,
      "metadata": {
        "id": "Awh-7a5y1rRT",
        "vscode": {
          "languageId": "python"
        }
      },
      "outputs": [],
      "source": [
        "imputer = SimpleImputer(missing_values=np.nan, strategy='mean') \n",
        "Na_imputed = imputer.fit_transform(Na_array)"
      ]
    },
    {
      "cell_type": "code",
      "execution_count": null,
      "metadata": {
        "id": "nT6hJ81u98Dd",
        "vscode": {
          "languageId": "python"
        }
      },
      "outputs": [],
      "source": [
        "Na_imputed"
      ]
    },
    {
      "cell_type": "markdown",
      "metadata": {
        "id": "UhCpaxNWQfWd"
      },
      "source": [
        "Técnica de DataMining para imputar valores"
      ]
    },
    {
      "cell_type": "code",
      "execution_count": 16,
      "metadata": {
        "id": "iEQ_s-JgAj81",
        "vscode": {
          "languageId": "python"
        }
      },
      "outputs": [],
      "source": [
        "from sklearn.impute import KNNImputer"
      ]
    },
    {
      "cell_type": "code",
      "execution_count": 17,
      "metadata": {
        "id": "qtpdoFoNMFes",
        "vscode": {
          "languageId": "python"
        }
      },
      "outputs": [],
      "source": [
        "imputer = KNNImputer()    #Se desea remplazar desconocidos por los registros más similares\n",
        "                          #Este método no permite comparar cadenas!\n",
        "#imputer.fit_transform(df)   #con cadenas no es posible con lo cual se debe utilizar OHE\n"
      ]
    },
    {
      "cell_type": "code",
      "execution_count": null,
      "metadata": {
        "id": "y9OJbTT6TslP",
        "vscode": {
          "languageId": "python"
        }
      },
      "outputs": [],
      "source": [
        "df_transformado_OHE_Sin_Nulos = pd.DataFrame(imputer.fit_transform(df_transformado_OHE),columns = df_transformado_OHE.columns)\n",
        "df_transformado_OHE_Sin_Nulos"
      ]
    },
    {
      "cell_type": "code",
      "execution_count": null,
      "metadata": {
        "id": "CdpBnSnw096G",
        "vscode": {
          "languageId": "python"
        }
      },
      "outputs": [],
      "source": [
        "df_transformado_OHE_Sin_Nulos.isna().any()"
      ]
    },
    {
      "cell_type": "markdown",
      "metadata": {
        "id": "FwsmrHE-Qvxg"
      },
      "source": [
        "# **Valores Atípicos**"
      ]
    },
    {
      "cell_type": "code",
      "execution_count": null,
      "metadata": {
        "id": "IL7ARhVZsgxI",
        "vscode": {
          "languageId": "python"
        }
      },
      "outputs": [],
      "source": [
        "!pip install pyod\n",
        "\n",
        "from pyod.models.lof import LOF  #https://pyod.readthedocs.io/en/latest/_modules/pyod/models/lof.html\n",
        "from pyod.models.knn import KNN  #https://pyod.readthedocs.io/en/latest/_modules/pyod/models/knn.html"
      ]
    },
    {
      "cell_type": "code",
      "execution_count": null,
      "metadata": {
        "id": "toi0TzBXseR5",
        "vscode": {
          "languageId": "python"
        }
      },
      "outputs": [],
      "source": [
        "imputer1 = LOF() \n",
        "Data_Numpy_Array = df_transformado_OHE_Sin_Nulos.to_numpy()  \n",
        "imputer1.fit(Data_Numpy_Array)                         # Todo el dataset\n",
        "pred = imputer1.predict(Data_Numpy_Array)              # outlier labels (0 or 1)\n",
        "scores = imputer1.decision_function(Data_Numpy_Array)  # outlier scores\n",
        "print (pred)\n",
        "print (scores)"
      ]
    },
    {
      "cell_type": "code",
      "execution_count": null,
      "metadata": {
        "id": "sHJAz3X_3nG1",
        "vscode": {
          "languageId": "python"
        }
      },
      "outputs": [],
      "source": [
        "imputer2 = KNN() \n",
        "imputer2.fit(Na_imputed)                         # Se podría utilizar para un unico atributo pero si fuese el caso es recomendable técnicas estadísticas\n",
        "pred = imputer2.predict(Na_imputed)              # outlier labels (0 or 1)\n",
        "scores = imputer2.decision_function(Na_imputed)  # outlier scores\n",
        "print (pred)\n",
        "print (scores)"
      ]
    },
    {
      "cell_type": "markdown",
      "metadata": {
        "id": "F-SePNReE1tp"
      },
      "source": [
        "#Selección de Características"
      ]
    },
    {
      "cell_type": "markdown",
      "metadata": {
        "id": "f-j5ru2dekdu"
      },
      "source": [
        "Método Wrapper"
      ]
    },
    {
      "cell_type": "code",
      "execution_count": 23,
      "metadata": {
        "id": "FYeTQkBzegzU",
        "vscode": {
          "languageId": "python"
        }
      },
      "outputs": [],
      "source": [
        "from sklearn.linear_model import LogisticRegression\n",
        "from sklearn.feature_selection import RFE\n",
        "from sklearn.preprocessing import MinMaxScaler"
      ]
    },
    {
      "cell_type": "code",
      "execution_count": null,
      "metadata": {
        "id": "kUTDF79_E-gi",
        "vscode": {
          "languageId": "python"
        }
      },
      "outputs": [],
      "source": [
        "df = pd.read_csv(\"glass.csv\", sep=\",\") # Importar del archivo de datos y guardarlo en un DATAFRAME\n",
        "df_norm = MinMaxScaler().fit_transform(np.array(df.drop('Type', axis=1))) \n",
        "y = np.array(df['Type'])\n",
        "\n",
        "model = LogisticRegression(solver='lbfgs', multi_class='auto')\n",
        "rfe_selector = RFE(model, n_features_to_select=3)\n",
        "fit = rfe_selector.fit(df_norm, y)\n",
        "\n",
        "print(\"Num Features: %d\" % fit.n_features_)\n",
        "print(\"Selected Features: %s\" % fit.support_)\n",
        "print(\"Feature Ranking: %s\" % fit.ranking_)"
      ]
    },
    {
      "cell_type": "markdown",
      "metadata": {
        "id": "mydejcxMj024"
      },
      "source": [
        "Método Embebido"
      ]
    },
    {
      "cell_type": "code",
      "execution_count": 25,
      "metadata": {
        "id": "aCJAGzCgjw4E",
        "vscode": {
          "languageId": "python"
        }
      },
      "outputs": [],
      "source": [
        "from sklearn.ensemble import ExtraTreesClassifier"
      ]
    },
    {
      "cell_type": "code",
      "execution_count": null,
      "metadata": {
        "id": "lElLe1tdj0ma",
        "vscode": {
          "languageId": "python"
        }
      },
      "outputs": [],
      "source": [
        "# feature extraction\n",
        "model = ExtraTreesClassifier(n_estimators=10)\n",
        "model.fit(df_norm, y)\n",
        "print(model.feature_importances_)   # a mayor score mayor importancia "
      ]
    }
  ],
  "metadata": {
    "accelerator": "TPU",
    "colab": {
      "collapsed_sections": [
        "EH3b2n-HlkV-",
        "FwsmrHE-Qvxg"
      ],
      "name": "Pre_procesamiento_Datos_II.ipynb",
      "provenance": []
    },
    "kernelspec": {
      "display_name": "Python 3",
      "name": "python3"
    }
  },
  "nbformat": 4,
  "nbformat_minor": 0
}
