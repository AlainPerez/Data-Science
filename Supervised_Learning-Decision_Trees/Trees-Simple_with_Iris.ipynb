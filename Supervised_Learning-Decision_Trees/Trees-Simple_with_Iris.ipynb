{
  "cells": [
    {
      "cell_type": "markdown",
      "metadata": {
        "id": "AzxW_0k517mD"
      },
      "source": [
        "#  Árboles de Decisiones\n",
        "\n",
        "## ¿Qué son?¿Para que sirven?\n",
        "Nos permiten enfrentar problemas de predicción. Esto es un proceso de dos pasos:\n",
        "1. Aprendizaje: se desarrolla el modelo en un conjunto de entrenamiento\n",
        "2. Predicción: el modelo entrenado se ocupa para una predicción"
      ],
      "id": "AzxW_0k517mD"
    },
    {
      "cell_type": "code",
      "source": [
        "from sklearn.datasets import load_iris\n",
        "from sklearn import tree"
      ],
      "metadata": {
        "id": "zqxQwUZa2goj"
      },
      "id": "zqxQwUZa2goj",
      "execution_count": 1,
      "outputs": []
    },
    {
      "cell_type": "code",
      "execution_count": 2,
      "metadata": {
        "scrolled": false,
        "id": "czEXpfad17mL"
      },
      "outputs": [],
      "source": [
        "X, y = load_iris(return_X_y=True)\n",
        "clf = tree.DecisionTreeClassifier()  #https://scikit-learn.org/stable/modules/generated/sklearn.tree.DecisionTreeClassifier.html"
      ],
      "id": "czEXpfad17mL"
    },
    {
      "cell_type": "code",
      "source": [
        "clf = clf.fit(X, y) # Entrenamiento, se crear el árbol de decisión\n",
        "X"
      ],
      "metadata": {
        "id": "fImEguqK2nIr"
      },
      "id": "fImEguqK2nIr",
      "execution_count": null,
      "outputs": []
    },
    {
      "cell_type": "code",
      "source": [
        "y"
      ],
      "metadata": {
        "id": "9xwuBmLs4Qn0"
      },
      "id": "9xwuBmLs4Qn0",
      "execution_count": null,
      "outputs": []
    },
    {
      "cell_type": "code",
      "source": [
        "iris=load_iris(as_frame=True)\n",
        "iris"
      ],
      "metadata": {
        "id": "ogihmsZy3T-C"
      },
      "id": "ogihmsZy3T-C",
      "execution_count": null,
      "outputs": []
    },
    {
      "cell_type": "code",
      "execution_count": null,
      "metadata": {
        "scrolled": true,
        "id": "NWesPHxG17mM"
      },
      "outputs": [],
      "source": [
        "#mostrar el árbol\n",
        "import numpy as np\n",
        "import matplotlib.pyplot as plt\n",
        "\n",
        "from sklearn.datasets import load_iris\n",
        "from sklearn.tree import plot_tree\n",
        "plt.figure(figsize=(12,12))  \n",
        "tree.plot_tree(clf, filled=True)\n",
        "plt.show()"
      ],
      "id": "NWesPHxG17mM"
    }
  ],
  "metadata": {
    "celltoolbar": "Edit Metadata",
    "kernelspec": {
      "display_name": "Python 3",
      "language": "python",
      "name": "python3"
    },
    "language_info": {
      "codemirror_mode": {
        "name": "ipython",
        "version": 3
      },
      "file_extension": ".py",
      "mimetype": "text/x-python",
      "name": "python",
      "nbconvert_exporter": "python",
      "pygments_lexer": "ipython3",
      "version": "3.7.6"
    },
    "colab": {
      "name": "Arboles.ipynb",
      "provenance": []
    }
  },
  "nbformat": 4,
  "nbformat_minor": 5
}