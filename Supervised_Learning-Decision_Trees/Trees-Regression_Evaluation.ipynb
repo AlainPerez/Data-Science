{
  "nbformat": 4,
  "nbformat_minor": 0,
  "metadata": {
    "colab": {
      "name": "Untitled0.ipynb",
      "provenance": [],
      "collapsed_sections": []
    },
    "kernelspec": {
      "name": "python3",
      "display_name": "Python 3"
    },
    "language_info": {
      "name": "python"
    }
  },
  "cells": [
    {
      "cell_type": "markdown",
      "source": [
        "#Árbol de decisión para la Regresión"
      ],
      "metadata": {
        "id": "_PMBVhTi9S4c"
      }
    },
    {
      "cell_type": "code",
      "execution_count": 15,
      "metadata": {
        "id": "vtBLf9Fo63Bf"
      },
      "outputs": [],
      "source": [
        "#Importar de bibliotecas\n",
        "import pandas as pd\n",
        "import numpy as np\n",
        "import matplotlib.pyplot as plt"
      ]
    },
    {
      "cell_type": "code",
      "source": [
        "#Importar el conjunto de datos\n",
        "dataset = pd.read_csv(\"petrol_consumption.csv\") #https://people.sc.fsu.edu/~jburkardt/datasets/regression/x16.txt\n",
        "dataset.shape"
      ],
      "metadata": {
        "id": "9cbn_ZKr7FDS"
      },
      "execution_count": null,
      "outputs": []
    },
    {
      "cell_type": "code",
      "source": [
        "#Análisis de los datos\n",
        "dataset.head()"
      ],
      "metadata": {
        "id": "dnV3UJXQ7LZg"
      },
      "execution_count": null,
      "outputs": []
    },
    {
      "cell_type": "code",
      "source": [
        "#Preparar los datos\n",
        "X = dataset.drop('Petrol_Consumption', axis=1)\n",
        "y = dataset['Petrol_Consumption']"
      ],
      "metadata": {
        "id": "szUTSK_E7Oc1"
      },
      "execution_count": 18,
      "outputs": []
    },
    {
      "cell_type": "code",
      "source": [
        "from sklearn.model_selection import train_test_split\n",
        "X_train, X_test, y_train, y_test = train_test_split(X, y, test_size=0.20)"
      ],
      "metadata": {
        "id": "KlQ2oEuS7RNO"
      },
      "execution_count": 19,
      "outputs": []
    },
    {
      "cell_type": "code",
      "source": [
        "#Entrenar y hacer predicciones\n",
        "from sklearn.tree import DecisionTreeRegressor #https://scikit-learn.org/stable/modules/generated/sklearn.tree.DecisionTreeRegressor.html\n",
        "regressor = DecisionTreeRegressor()\n",
        "regressor.fit(X_train, y_train)"
      ],
      "metadata": {
        "colab": {
          "base_uri": "https://localhost:8080/"
        },
        "id": "VCvDAiYY7UAL",
        "outputId": "86ba1982-9987-4aeb-a701-e5068b1ee9cc"
      },
      "execution_count": 20,
      "outputs": [
        {
          "output_type": "execute_result",
          "data": {
            "text/plain": [
              "DecisionTreeRegressor()"
            ]
          },
          "metadata": {},
          "execution_count": 20
        }
      ]
    },
    {
      "cell_type": "code",
      "source": [
        "y_pred = regressor.predict(X_test)"
      ],
      "metadata": {
        "id": "pwpcfOkh7XFf"
      },
      "execution_count": 21,
      "outputs": []
    },
    {
      "cell_type": "code",
      "source": [
        "#Evaluar el algoritmo\n",
        "from sklearn import metrics\n",
        "print('Mean Absolute Error:', metrics.mean_absolute_error(y_test, y_pred))\n",
        "print('Mean Squared Error:', metrics.mean_squared_error(y_test, y_pred))\n",
        "print('Root Mean Squared Error:', np.sqrt(metrics.mean_squared_error(y_test, y_pred)))"
      ],
      "metadata": {
        "colab": {
          "base_uri": "https://localhost:8080/"
        },
        "id": "jPzkCx7Y7ZvE",
        "outputId": "a6eba27c-a372-4b39-e833-f7973e043f6f"
      },
      "execution_count": 22,
      "outputs": [
        {
          "output_type": "stream",
          "name": "stdout",
          "text": [
            "Mean Absolute Error: 87.9\n",
            "Mean Squared Error: 9348.5\n",
            "Root Mean Squared Error: 96.68764140261153\n"
          ]
        }
      ]
    }
  ]
}