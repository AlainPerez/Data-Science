{
  "cells": [
    {
      "cell_type": "markdown",
      "id": "f72374a9",
      "metadata": {
        "papermill": {
          "duration": 0.039873,
          "end_time": "2022-01-13T11:55:10.135433",
          "exception": false,
          "start_time": "2022-01-13T11:55:10.095560",
          "status": "completed"
        },
        "tags": [],
        "id": "f72374a9"
      },
      "source": [
        "EVALUACIÓN DE PREDICCIONES: Confusion Matrix using Python Sklearn"
      ]
    },
    {
      "cell_type": "code",
      "source": [
        "import numpy as np # linear algebra\n",
        "import pandas as pd # data processing, CSV file I/O (e.g. pd.read_csv)"
      ],
      "metadata": {
        "id": "BTMV3BUoHvD9"
      },
      "id": "BTMV3BUoHvD9",
      "execution_count": 1,
      "outputs": []
    },
    {
      "cell_type": "code",
      "execution_count": 2,
      "id": "21f72286",
      "metadata": {
        "execution": {
          "iopub.execute_input": "2022-01-13T11:55:10.220724Z",
          "iopub.status.busy": "2022-01-13T11:55:10.219974Z",
          "iopub.status.idle": "2022-01-13T11:55:11.346079Z",
          "shell.execute_reply": "2022-01-13T11:55:11.345496Z",
          "shell.execute_reply.started": "2022-01-13T11:23:14.013159Z"
        },
        "papermill": {
          "duration": 1.168657,
          "end_time": "2022-01-13T11:55:11.346219",
          "exception": false,
          "start_time": "2022-01-13T11:55:10.177562",
          "status": "completed"
        },
        "tags": [],
        "id": "21f72286"
      },
      "outputs": [],
      "source": [
        "import pandas as pd\n",
        "from sklearn.datasets import load_iris\n",
        "iris= load_iris()"
      ]
    },
    {
      "cell_type": "code",
      "execution_count": null,
      "id": "2d06f885",
      "metadata": {
        "execution": {
          "iopub.execute_input": "2022-01-13T11:55:11.430193Z",
          "iopub.status.busy": "2022-01-13T11:55:11.429298Z",
          "iopub.status.idle": "2022-01-13T11:55:11.433265Z",
          "shell.execute_reply": "2022-01-13T11:55:11.433771Z",
          "shell.execute_reply.started": "2022-01-13T11:23:15.288802Z"
        },
        "papermill": {
          "duration": 0.049353,
          "end_time": "2022-01-13T11:55:11.433938",
          "exception": false,
          "start_time": "2022-01-13T11:55:11.384585",
          "status": "completed"
        },
        "tags": [],
        "id": "2d06f885"
      },
      "outputs": [],
      "source": [
        "iris.feature_names\n"
      ]
    },
    {
      "cell_type": "code",
      "execution_count": null,
      "id": "d3a60b86",
      "metadata": {
        "execution": {
          "iopub.execute_input": "2022-01-13T11:55:11.516419Z",
          "iopub.status.busy": "2022-01-13T11:55:11.515536Z",
          "iopub.status.idle": "2022-01-13T11:55:11.518802Z",
          "shell.execute_reply": "2022-01-13T11:55:11.519293Z",
          "shell.execute_reply.started": "2022-01-13T11:23:15.305093Z"
        },
        "papermill": {
          "duration": 0.047155,
          "end_time": "2022-01-13T11:55:11.519475",
          "exception": false,
          "start_time": "2022-01-13T11:55:11.472320",
          "status": "completed"
        },
        "tags": [],
        "id": "d3a60b86"
      },
      "outputs": [],
      "source": [
        "iris.target_names"
      ]
    },
    {
      "cell_type": "code",
      "execution_count": null,
      "id": "4c44ec54",
      "metadata": {
        "execution": {
          "iopub.execute_input": "2022-01-13T11:55:11.600023Z",
          "iopub.status.busy": "2022-01-13T11:55:11.598998Z",
          "iopub.status.idle": "2022-01-13T11:55:11.622796Z",
          "shell.execute_reply": "2022-01-13T11:55:11.623368Z",
          "shell.execute_reply.started": "2022-01-13T11:23:15.315848Z"
        },
        "papermill": {
          "duration": 0.065853,
          "end_time": "2022-01-13T11:55:11.623559",
          "exception": false,
          "start_time": "2022-01-13T11:55:11.557706",
          "status": "completed"
        },
        "tags": [],
        "id": "4c44ec54"
      },
      "outputs": [],
      "source": [
        "df=pd.DataFrame(iris.data, columns=iris.feature_names)\n",
        "df.head()"
      ]
    },
    {
      "cell_type": "code",
      "execution_count": null,
      "id": "843667b8",
      "metadata": {
        "execution": {
          "iopub.execute_input": "2022-01-13T11:55:11.704990Z",
          "iopub.status.busy": "2022-01-13T11:55:11.704012Z",
          "iopub.status.idle": "2022-01-13T11:55:11.708922Z",
          "shell.execute_reply": "2022-01-13T11:55:11.709523Z",
          "shell.execute_reply.started": "2022-01-13T11:23:15.350262Z"
        },
        "papermill": {
          "duration": 0.047453,
          "end_time": "2022-01-13T11:55:11.709694",
          "exception": false,
          "start_time": "2022-01-13T11:55:11.662241",
          "status": "completed"
        },
        "tags": [],
        "id": "843667b8"
      },
      "outputs": [],
      "source": [
        "df.shape"
      ]
    },
    {
      "cell_type": "code",
      "execution_count": null,
      "id": "7c36a7ee",
      "metadata": {
        "execution": {
          "iopub.execute_input": "2022-01-13T11:55:11.798455Z",
          "iopub.status.busy": "2022-01-13T11:55:11.797439Z",
          "iopub.status.idle": "2022-01-13T11:55:11.809192Z",
          "shell.execute_reply": "2022-01-13T11:55:11.809771Z",
          "shell.execute_reply.started": "2022-01-13T11:23:15.359320Z"
        },
        "papermill": {
          "duration": 0.060296,
          "end_time": "2022-01-13T11:55:11.809946",
          "exception": false,
          "start_time": "2022-01-13T11:55:11.749650",
          "status": "completed"
        },
        "tags": [],
        "id": "7c36a7ee"
      },
      "outputs": [],
      "source": [
        "df['target']=iris.target\n",
        "df.head()"
      ]
    },
    {
      "cell_type": "code",
      "execution_count": null,
      "id": "8a2a3477",
      "metadata": {
        "execution": {
          "iopub.execute_input": "2022-01-13T11:55:12.130317Z",
          "iopub.status.busy": "2022-01-13T11:55:12.129635Z",
          "iopub.status.idle": "2022-01-13T11:55:12.145271Z",
          "shell.execute_reply": "2022-01-13T11:55:12.144728Z",
          "shell.execute_reply.started": "2022-01-13T11:23:15.481592Z"
        },
        "papermill": {
          "duration": 0.060256,
          "end_time": "2022-01-13T11:55:12.145440",
          "exception": false,
          "start_time": "2022-01-13T11:55:12.085184",
          "status": "completed"
        },
        "tags": [],
        "id": "8a2a3477"
      },
      "outputs": [],
      "source": [
        "df['flowername']=df.target.apply(lambda x: iris.target_names[x])\n",
        "df.head()"
      ]
    },
    {
      "cell_type": "code",
      "execution_count": 9,
      "id": "dcf9eacc",
      "metadata": {
        "execution": {
          "iopub.execute_input": "2022-01-13T11:55:13.172735Z",
          "iopub.status.busy": "2022-01-13T11:55:13.172043Z",
          "iopub.status.idle": "2022-01-13T11:55:13.220215Z",
          "shell.execute_reply": "2022-01-13T11:55:13.219438Z",
          "shell.execute_reply.started": "2022-01-13T11:23:16.134483Z"
        },
        "papermill": {
          "duration": 0.096611,
          "end_time": "2022-01-13T11:55:13.220368",
          "exception": false,
          "start_time": "2022-01-13T11:55:13.123757",
          "status": "completed"
        },
        "tags": [],
        "id": "dcf9eacc"
      },
      "outputs": [],
      "source": [
        "from sklearn.model_selection import train_test_split"
      ]
    },
    {
      "cell_type": "code",
      "execution_count": 10,
      "id": "1e2037a8",
      "metadata": {
        "execution": {
          "iopub.execute_input": "2022-01-13T11:55:13.316791Z",
          "iopub.status.busy": "2022-01-13T11:55:13.316082Z",
          "iopub.status.idle": "2022-01-13T11:55:13.318785Z",
          "shell.execute_reply": "2022-01-13T11:55:13.318268Z",
          "shell.execute_reply.started": "2022-01-13T11:23:16.195046Z"
        },
        "papermill": {
          "duration": 0.054064,
          "end_time": "2022-01-13T11:55:13.318928",
          "exception": false,
          "start_time": "2022-01-13T11:55:13.264864",
          "status": "completed"
        },
        "tags": [],
        "id": "1e2037a8"
      },
      "outputs": [],
      "source": [
        "X= df.drop(['target','flowername'],axis='columns')\n",
        "y= df.target"
      ]
    },
    {
      "cell_type": "code",
      "execution_count": 11,
      "id": "fd10c8f7",
      "metadata": {
        "execution": {
          "iopub.execute_input": "2022-01-13T11:55:13.415529Z",
          "iopub.status.busy": "2022-01-13T11:55:13.414873Z",
          "iopub.status.idle": "2022-01-13T11:55:13.418084Z",
          "shell.execute_reply": "2022-01-13T11:55:13.418559Z",
          "shell.execute_reply.started": "2022-01-13T11:23:16.205137Z"
        },
        "papermill": {
          "duration": 0.055712,
          "end_time": "2022-01-13T11:55:13.418732",
          "exception": false,
          "start_time": "2022-01-13T11:55:13.363020",
          "status": "completed"
        },
        "tags": [],
        "id": "fd10c8f7"
      },
      "outputs": [],
      "source": [
        "X_train,X_test,y_train,y_test= train_test_split(X,y,test_size=0.2, random_state=3)"
      ]
    },
    {
      "cell_type": "code",
      "execution_count": null,
      "id": "068709e6",
      "metadata": {
        "execution": {
          "iopub.execute_input": "2022-01-13T11:55:13.512137Z",
          "iopub.status.busy": "2022-01-13T11:55:13.511483Z",
          "iopub.status.idle": "2022-01-13T11:55:13.515368Z",
          "shell.execute_reply": "2022-01-13T11:55:13.514829Z",
          "shell.execute_reply.started": "2022-01-13T11:23:16.222029Z"
        },
        "papermill": {
          "duration": 0.052934,
          "end_time": "2022-01-13T11:55:13.515523",
          "exception": false,
          "start_time": "2022-01-13T11:55:13.462589",
          "status": "completed"
        },
        "tags": [],
        "id": "068709e6"
      },
      "outputs": [],
      "source": [
        "X_train.shape\n"
      ]
    },
    {
      "cell_type": "code",
      "execution_count": null,
      "id": "505a8a3c",
      "metadata": {
        "execution": {
          "iopub.execute_input": "2022-01-13T11:55:13.609092Z",
          "iopub.status.busy": "2022-01-13T11:55:13.608374Z",
          "iopub.status.idle": "2022-01-13T11:55:13.611813Z",
          "shell.execute_reply": "2022-01-13T11:55:13.611144Z",
          "shell.execute_reply.started": "2022-01-13T11:23:16.232678Z"
        },
        "papermill": {
          "duration": 0.05232,
          "end_time": "2022-01-13T11:55:13.611951",
          "exception": false,
          "start_time": "2022-01-13T11:55:13.559631",
          "status": "completed"
        },
        "tags": [],
        "id": "505a8a3c"
      },
      "outputs": [],
      "source": [
        "y_train.shape"
      ]
    },
    {
      "cell_type": "markdown",
      "id": "1b304b7e",
      "metadata": {
        "papermill": {
          "duration": 0.04454,
          "end_time": "2022-01-13T11:55:13.701362",
          "exception": false,
          "start_time": "2022-01-13T11:55:13.656822",
          "status": "completed"
        },
        "tags": [],
        "id": "1b304b7e"
      },
      "source": [
        "# Create K Nearest Neighbor Classification (KNN)"
      ]
    },
    {
      "cell_type": "code",
      "execution_count": null,
      "id": "8aef0cbb",
      "metadata": {
        "execution": {
          "iopub.execute_input": "2022-01-13T11:55:13.794838Z",
          "iopub.status.busy": "2022-01-13T11:55:13.794190Z",
          "iopub.status.idle": "2022-01-13T11:55:13.944366Z",
          "shell.execute_reply": "2022-01-13T11:55:13.943720Z",
          "shell.execute_reply.started": "2022-01-13T11:23:16.247032Z"
        },
        "papermill": {
          "duration": 0.198519,
          "end_time": "2022-01-13T11:55:13.944541",
          "exception": false,
          "start_time": "2022-01-13T11:55:13.746022",
          "status": "completed"
        },
        "tags": [],
        "id": "8aef0cbb"
      },
      "outputs": [],
      "source": [
        "from sklearn.neighbors import KNeighborsClassifier\n",
        "knn= KNeighborsClassifier(n_neighbors=3)\n",
        "knn.fit(X_train,y_train)\n"
      ]
    },
    {
      "cell_type": "code",
      "execution_count": null,
      "id": "e686c081",
      "metadata": {
        "execution": {
          "iopub.execute_input": "2022-01-13T11:55:14.043364Z",
          "iopub.status.busy": "2022-01-13T11:55:14.042680Z",
          "iopub.status.idle": "2022-01-13T11:55:14.050249Z",
          "shell.execute_reply": "2022-01-13T11:55:14.049572Z",
          "shell.execute_reply.started": "2022-01-13T11:23:16.417432Z"
        },
        "papermill": {
          "duration": 0.060738,
          "end_time": "2022-01-13T11:55:14.050389",
          "exception": false,
          "start_time": "2022-01-13T11:55:13.989651",
          "status": "completed"
        },
        "tags": [],
        "id": "e686c081"
      },
      "outputs": [],
      "source": [
        "knn.score(X_test,y_test)"
      ]
    },
    {
      "cell_type": "markdown",
      "id": "93627322",
      "metadata": {
        "papermill": {
          "duration": 0.046247,
          "end_time": "2022-01-13T11:55:14.144688",
          "exception": false,
          "start_time": "2022-01-13T11:55:14.098441",
          "status": "completed"
        },
        "tags": [],
        "id": "93627322"
      },
      "source": [
        "# ConFusion Matrix"
      ]
    },
    {
      "cell_type": "code",
      "source": [
        "import matplotlib.pyplot as plt"
      ],
      "metadata": {
        "id": "2cCenwPpNsuF"
      },
      "id": "2cCenwPpNsuF",
      "execution_count": 16,
      "outputs": []
    },
    {
      "cell_type": "code",
      "execution_count": 17,
      "id": "eddbc822",
      "metadata": {
        "execution": {
          "iopub.execute_input": "2022-01-13T11:55:14.251591Z",
          "iopub.status.busy": "2022-01-13T11:55:14.250894Z",
          "iopub.status.idle": "2022-01-13T11:55:14.255202Z",
          "shell.execute_reply": "2022-01-13T11:55:14.254615Z",
          "shell.execute_reply.started": "2022-01-13T11:23:16.431082Z"
        },
        "papermill": {
          "duration": 0.064138,
          "end_time": "2022-01-13T11:55:14.255340",
          "exception": false,
          "start_time": "2022-01-13T11:55:14.191202",
          "status": "completed"
        },
        "tags": [],
        "id": "eddbc822"
      },
      "outputs": [],
      "source": [
        "from sklearn.metrics import confusion_matrix, ConfusionMatrixDisplay\n",
        "y_pred=knn.predict(X_test)\n",
        "matrix= confusion_matrix(y_test, y_pred)#confusion_matrix(truth, prediction)"
      ]
    },
    {
      "cell_type": "code",
      "source": [
        "ConfusionMatrixDisplay.from_estimator(knn, X, y)\n",
        "plt.show()\n"
      ],
      "metadata": {
        "id": "s0KL40xeMaKn",
        "colab": {
          "base_uri": "https://localhost:8080/",
          "height": 283
        },
        "outputId": "19d1b3b3-0d49-42a1-80c5-d68ea592dc21"
      },
      "id": "s0KL40xeMaKn",
      "execution_count": 21,
      "outputs": [
        {
          "output_type": "display_data",
          "data": {
            "text/plain": [
              "<Figure size 432x288 with 2 Axes>"
            ],
            "image/png": "[encoded data removed]"
          },
          "metadata": {
            "needs_background": "light"
          }
        }
      ]
    },
    {
      "cell_type": "markdown",
      "id": "f483ad60",
      "metadata": {
        "papermill": {
          "duration": 0.046835,
          "end_time": "2022-01-13T11:55:14.960254",
          "exception": false,
          "start_time": "2022-01-13T11:55:14.913419",
          "status": "completed"
        },
        "tags": [],
        "id": "f483ad60"
      },
      "source": [
        "## Classification report"
      ]
    },
    {
      "cell_type": "code",
      "execution_count": 22,
      "id": "12723c6f",
      "metadata": {
        "execution": {
          "iopub.execute_input": "2022-01-13T11:55:15.065459Z",
          "iopub.status.busy": "2022-01-13T11:55:15.064742Z",
          "iopub.status.idle": "2022-01-13T11:55:15.077466Z",
          "shell.execute_reply": "2022-01-13T11:55:15.078134Z",
          "shell.execute_reply.started": "2022-01-13T11:23:16.890662Z"
        },
        "papermill": {
          "duration": 0.066276,
          "end_time": "2022-01-13T11:55:15.078350",
          "exception": false,
          "start_time": "2022-01-13T11:55:15.012074",
          "status": "completed"
        },
        "tags": [],
        "id": "12723c6f",
        "outputId": "1fa1fa07-565d-4045-d4c6-0b66ff4adeb9",
        "colab": {
          "base_uri": "https://localhost:8080/"
        }
      },
      "outputs": [
        {
          "output_type": "stream",
          "name": "stdout",
          "text": [
            "              precision    recall  f1-score   support\n",
            "\n",
            "           0       1.00      1.00      1.00        10\n",
            "           1       1.00      0.90      0.95        10\n",
            "           2       0.91      1.00      0.95        10\n",
            "\n",
            "    accuracy                           0.97        30\n",
            "   macro avg       0.97      0.97      0.97        30\n",
            "weighted avg       0.97      0.97      0.97        30\n",
            "\n"
          ]
        }
      ],
      "source": [
        "from sklearn.metrics import classification_report\n",
        "print( classification_report(y_test,y_pred))   # Metricas para cada Clase, AVERAGE al final "
      ]
    },
    {
      "cell_type": "code",
      "execution_count": null,
      "id": "7883d71e",
      "metadata": {
        "papermill": {
          "duration": 0.051593,
          "end_time": "2022-01-13T11:55:18.664117",
          "exception": false,
          "start_time": "2022-01-13T11:55:18.612524",
          "status": "completed"
        },
        "tags": [],
        "id": "7883d71e"
      },
      "outputs": [],
      "source": [
        ""
      ]
    }
  ],
  "metadata": {
    "kernelspec": {
      "display_name": "Python 3",
      "language": "python",
      "name": "python3"
    },
    "language_info": {
      "codemirror_mode": {
        "name": "ipython",
        "version": 3
      },
      "file_extension": ".py",
      "mimetype": "text/x-python",
      "name": "python",
      "nbconvert_exporter": "python",
      "pygments_lexer": "ipython3",
      "version": "3.7.12"
    },
    "papermill": {
      "default_parameters": {},
      "duration": 19.781214,
      "end_time": "2022-01-13T11:55:19.427536",
      "environment_variables": {},
      "exception": null,
      "input_path": "__notebook__.ipynb",
      "output_path": "__notebook__.ipynb",
      "parameters": {},
      "start_time": "2022-01-13T11:54:59.646322",
      "version": "2.3.3"
    },
    "colab": {
      "name": "knn-confusion-matrix-iris-flower-digits-data.ipynb",
      "provenance": []
    }
  },
  "nbformat": 4,
  "nbformat_minor": 5
}