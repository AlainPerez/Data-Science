{
  "cells": [
    {
      "cell_type": "markdown",
      "id": "f72374a9",
      "metadata": {
        "papermill": {
          "duration": 0.039873,
          "end_time": "2022-01-13T11:55:10.135433",
          "exception": false,
          "start_time": "2022-01-13T11:55:10.095560",
          "status": "completed"
        },
        "tags": [],
        "id": "f72374a9"
      },
      "source": [
        "**EVALUACIÓN** DE MODELOS: ROC Curve using Python Sklearn"
      ]
    },
    {
      "cell_type": "markdown",
      "source": [
        "1- Import Necessary Packages"
      ],
      "metadata": {
        "id": "bjg48jRu2P9E"
      },
      "id": "bjg48jRu2P9E"
    },
    {
      "cell_type": "code",
      "source": [
        "import pandas as pd      \n",
        "import numpy as np\n",
        "from sklearn.model_selection import train_test_split\n",
        "from sklearn.linear_model import LogisticRegression\n",
        "from sklearn.neighbors import KNeighborsClassifier\n",
        "from sklearn import metrics\n",
        "import matplotlib.pyplot as plt"
      ],
      "metadata": {
        "id": "BTMV3BUoHvD9"
      },
      "id": "BTMV3BUoHvD9",
      "execution_count": 11,
      "outputs": []
    },
    {
      "cell_type": "markdown",
      "source": [
        "2- Fit the Logistic Regression Model"
      ],
      "metadata": {
        "id": "oHVHiPkX2D7W"
      },
      "id": "oHVHiPkX2D7W"
    },
    {
      "cell_type": "code",
      "source": [
        "#import dataset from CSV file on Github\n",
        "\n",
        "#The dataset consists of 10000 individuals and whether their credit card has defaulted or not. The main aim is to build the model using Logistic Regression and predict the accuracy of it .\n",
        "#Attributes:\n",
        "#Default : Yes or No (Whether defaulted or Not).\n",
        "#Student : Yes or Nor (Whether Student or not).\n",
        "#Balance : Total Balance for given credit card holder.\n",
        "#Income : Gross Annual Income of credit card holder.\n",
        "\n",
        "url = \"https://raw.githubusercontent.com/Statology/Python-Guides/main/default.csv\"\n",
        "df = pd.read_csv(url)\n",
        "df.head()"
      ],
      "metadata": {
        "id": "kRxBAYM92Abv"
      },
      "id": "kRxBAYM92Abv",
      "execution_count": null,
      "outputs": []
    },
    {
      "cell_type": "code",
      "execution_count": 13,
      "id": "2d06f885",
      "metadata": {
        "execution": {
          "iopub.execute_input": "2022-01-13T11:55:11.430193Z",
          "iopub.status.busy": "2022-01-13T11:55:11.429298Z",
          "iopub.status.idle": "2022-01-13T11:55:11.433265Z",
          "shell.execute_reply": "2022-01-13T11:55:11.433771Z",
          "shell.execute_reply.started": "2022-01-13T11:23:15.288802Z"
        },
        "papermill": {
          "duration": 0.049353,
          "end_time": "2022-01-13T11:55:11.433938",
          "exception": false,
          "start_time": "2022-01-13T11:55:11.384585",
          "status": "completed"
        },
        "tags": [],
        "id": "2d06f885"
      },
      "outputs": [],
      "source": [
        "#define the predictor variables and the response variable\n",
        "X = df[['student', 'balance', 'income']]\n",
        "y = df['default']"
      ]
    },
    {
      "cell_type": "code",
      "source": [
        "#split the dataset into training (70%) and testing (30%) sets\n",
        "X_train,X_test,y_train,y_test = train_test_split(X,y,test_size=0.3,random_state=0) "
      ],
      "metadata": {
        "id": "kL_qZX-r2dID"
      },
      "id": "kL_qZX-r2dID",
      "execution_count": 14,
      "outputs": []
    },
    {
      "cell_type": "code",
      "source": [
        "#instantiate the model and fit the models using the training data\n",
        "log_regression = LogisticRegression()\n",
        "log_regression.fit(X_train,y_train)\n",
        "knn= KNeighborsClassifier(n_neighbors=7)\n",
        "knn.fit(X_train,y_train)"
      ],
      "metadata": {
        "colab": {
          "base_uri": "https://localhost:8080/"
        },
        "id": "P43orm-Z2e_F",
        "outputId": "10975ff1-aed7-4f9d-8cd5-dc31b0b624d4"
      },
      "id": "P43orm-Z2e_F",
      "execution_count": 15,
      "outputs": [
        {
          "output_type": "execute_result",
          "data": {
            "text/plain": [
              "KNeighborsClassifier(n_neighbors=7)"
            ]
          },
          "metadata": {},
          "execution_count": 15
        }
      ]
    },
    {
      "cell_type": "markdown",
      "source": [
        "3-  Plot the ROC Curve"
      ],
      "metadata": {
        "id": "gexCxITt3Wm4"
      },
      "id": "gexCxITt3Wm4"
    },
    {
      "cell_type": "code",
      "source": [
        "#define metrics\n",
        "y_log_reg_pred_proba = log_regression.predict_proba(X_test)[::,1] # modelo 1 predicciones\n",
        "y_knn_pred_proba = knn.predict_proba(X_test)[::,1]                # modelo 2 predicciones\n",
        "\n",
        "fpr_log_reg, tpr_log_reg, _ = metrics.roc_curve(y_test, y_log_reg_pred_proba)\n",
        "roc_auc_log_reg = metrics.auc(fpr_log_reg, tpr_log_reg)\n",
        "\n",
        "fpr_knn, tpr_knn, _ = metrics.roc_curve(y_test,  y_knn_pred_proba)\n",
        "roc_auc_knn = metrics.auc(fpr_knn, tpr_knn)\n",
        "\n",
        "#create ROC curve\n",
        "plt.title('Receiver Operating Characteristic')\n",
        "plt.plot(fpr_log_reg,tpr_log_reg, 'g', label='AUC = %0.2f' % roc_auc_log_reg)\n",
        "plt.plot(fpr_knn,tpr_knn, 'r', label='AUC = %0.2f' % roc_auc_knn)\n",
        "plt.legend(loc = 'lower right')\n",
        "plt.plot([0, 1], [0, 1],'b--')\n",
        "plt.xlim([0, 1])\n",
        "plt.ylim([0, 1])\n",
        "plt.ylabel('True Positive Rate')\n",
        "plt.xlabel('False Positive Rate')\n",
        "plt.show()"
      ],
      "metadata": {
        "colab": {
          "base_uri": "https://localhost:8080/",
          "height": 295
        },
        "id": "_3Ws6Rqi3ZMt",
        "outputId": "0dba53bf-1bad-40be-a140-d28884091704"
      },
      "id": "_3Ws6Rqi3ZMt",
      "execution_count": 16,
      "outputs": [
        {
          "output_type": "display_data",
          "data": {
            "text/plain": [
              "<Figure size 432x288 with 1 Axes>"
            ],
            "image/png": "[encoded data removed]"
          },
          "metadata": {
            "needs_background": "light"
          }
        }
      ]
    },
    {
      "cell_type": "code",
      "source": [
        "#AUC\n",
        "print(\"AUC del modelo LogisticRegression\", metrics.roc_auc_score(y_test,  y_log_reg_pred_proba)) \n",
        "print(\"AUC del modelo KNeighborsClassifier\", metrics.roc_auc_score(y_test,  y_knn_pred_proba)) "
      ],
      "metadata": {
        "colab": {
          "base_uri": "https://localhost:8080/"
        },
        "id": "u8AGO-NScquS",
        "outputId": "136163df-3302-40eb-dc2b-2108b506b531"
      },
      "id": "u8AGO-NScquS",
      "execution_count": 21,
      "outputs": [
        {
          "output_type": "stream",
          "name": "stdout",
          "text": [
            "AUC del modelo LogisticRegression 0.9050028967204219\n",
            "AUC del modelo KNeighborsClassifier 0.8424827806063802\n"
          ]
        }
      ]
    }
  ],
  "metadata": {
    "kernelspec": {
      "display_name": "Python 3",
      "language": "python",
      "name": "python3"
    },
    "language_info": {
      "codemirror_mode": {
        "name": "ipython",
        "version": 3
      },
      "file_extension": ".py",
      "mimetype": "text/x-python",
      "name": "python",
      "nbconvert_exporter": "python",
      "pygments_lexer": "ipython3",
      "version": "3.7.12"
    },
    "papermill": {
      "default_parameters": {},
      "duration": 19.781214,
      "end_time": "2022-01-13T11:55:19.427536",
      "environment_variables": {},
      "exception": null,
      "input_path": "__notebook__.ipynb",
      "output_path": "__notebook__.ipynb",
      "parameters": {},
      "start_time": "2022-01-13T11:54:59.646322",
      "version": "2.3.3"
    },
    "colab": {
      "name": "Eval_Modelos_II_CLASIFICACION_ROC.ipynb",
      "provenance": []
    }
  },
  "nbformat": 4,
  "nbformat_minor": 5
}