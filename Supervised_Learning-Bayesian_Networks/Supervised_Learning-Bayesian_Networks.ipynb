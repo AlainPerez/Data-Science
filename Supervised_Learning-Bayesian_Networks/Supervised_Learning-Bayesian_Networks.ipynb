{
  "nbformat": 4,
  "nbformat_minor": 0,
  "metadata": {
    "colab": {
      "name": "Untitled3.ipynb",
      "provenance": []
    },
    "kernelspec": {
      "name": "python3",
      "display_name": "Python 3"
    },
    "language_info": {
      "name": "python"
    }
  },
  "cells": [
    {
      "cell_type": "markdown",
      "source": [
        "##IMPLEMENTING NAIVE BAYES CLASSIFICATION USING PYTHON"
      ],
      "metadata": {
        "id": "du-197VEe_qX"
      }
    },
    {
      "cell_type": "markdown",
      "source": [
        "Loading and Exploring dataset"
      ],
      "metadata": {
        "id": "iuRMDa4ae40p"
      }
    },
    {
      "cell_type": "code",
      "source": [
        "# import scikit-learn dataset library\n",
        "from sklearn import datasets\n",
        "\n",
        "# load dataset\n",
        "dataset = datasets.load_wine()"
      ],
      "metadata": {
        "id": "PqoHRWS4f7pj"
      },
      "execution_count": 36,
      "outputs": []
    },
    {
      "cell_type": "code",
      "source": [
        "# print the names of the 13 features\n",
        "print (\"Inputs: \", dataset.feature_names)\n",
        "\n",
        "# print the label type of wine\n",
        "print (\"Outputs: \", dataset.target_names)"
      ],
      "metadata": {
        "colab": {
          "base_uri": "https://localhost:8080/"
        },
        "id": "n4nDXnaudlSK",
        "outputId": "51f999c5-ba33-4c8c-f693-4257a0e14324"
      },
      "execution_count": 37,
      "outputs": [
        {
          "output_type": "stream",
          "name": "stdout",
          "text": [
            "Inputs:  ['alcohol', 'malic_acid', 'ash', 'alcalinity_of_ash', 'magnesium', 'total_phenols', 'flavanoids', 'nonflavanoid_phenols', 'proanthocyanins', 'color_intensity', 'hue', 'od280/od315_of_diluted_wines', 'proline']\n",
            "Outputs:  ['class_0' 'class_1' 'class_2']\n"
          ]
        }
      ]
    },
    {
      "cell_type": "code",
      "source": [
        "# print the wine data features\n",
        "print(dataset.data[0:3])"
      ],
      "metadata": {
        "colab": {
          "base_uri": "https://localhost:8080/"
        },
        "id": "VRRacz12dooc",
        "outputId": "6d7f72b5-0b3e-4086-f8d5-ae185e016f26"
      },
      "execution_count": 38,
      "outputs": [
        {
          "output_type": "stream",
          "name": "stdout",
          "text": [
            "[[1.423e+01 1.710e+00 2.430e+00 1.560e+01 1.270e+02 2.800e+00 3.060e+00\n",
            "  2.800e-01 2.290e+00 5.640e+00 1.040e+00 3.920e+00 1.065e+03]\n",
            " [1.320e+01 1.780e+00 2.140e+00 1.120e+01 1.000e+02 2.650e+00 2.760e+00\n",
            "  2.600e-01 1.280e+00 4.380e+00 1.050e+00 3.400e+00 1.050e+03]\n",
            " [1.316e+01 2.360e+00 2.670e+00 1.860e+01 1.010e+02 2.800e+00 3.240e+00\n",
            "  3.000e-01 2.810e+00 5.680e+00 1.030e+00 3.170e+00 1.185e+03]]\n"
          ]
        }
      ]
    },
    {
      "cell_type": "code",
      "source": [
        "# print the wine data features\n",
        "print(dataset.data[0:3])"
      ],
      "metadata": {
        "colab": {
          "base_uri": "https://localhost:8080/"
        },
        "id": "JIU-VKTIdq2P",
        "outputId": "a5e52d77-be17-4e27-baeb-2bed2a4e655b"
      },
      "execution_count": 39,
      "outputs": [
        {
          "output_type": "stream",
          "name": "stdout",
          "text": [
            "[[1.423e+01 1.710e+00 2.430e+00 1.560e+01 1.270e+02 2.800e+00 3.060e+00\n",
            "  2.800e-01 2.290e+00 5.640e+00 1.040e+00 3.920e+00 1.065e+03]\n",
            " [1.320e+01 1.780e+00 2.140e+00 1.120e+01 1.000e+02 2.650e+00 2.760e+00\n",
            "  2.600e-01 1.280e+00 4.380e+00 1.050e+00 3.400e+00 1.050e+03]\n",
            " [1.316e+01 2.360e+00 2.670e+00 1.860e+01 1.010e+02 2.800e+00 3.240e+00\n",
            "  3.000e-01 2.810e+00 5.680e+00 1.030e+00 3.170e+00 1.185e+03]]\n"
          ]
        }
      ]
    },
    {
      "cell_type": "code",
      "source": [
        ""
      ],
      "metadata": {
        "id": "WFGBZ4j-glEf"
      },
      "execution_count": 39,
      "outputs": []
    },
    {
      "cell_type": "markdown",
      "source": [
        "Encode the non-numeric values into numeric ones"
      ],
      "metadata": {
        "id": "-0m1pKvDgqLZ"
      }
    },
    {
      "cell_type": "code",
      "source": [
        "# import LabelEncoder\n",
        "#from sklearn import preprocessing\n",
        "\n",
        "# creating LabelEncoder\n",
        "#labelCode = preprocessing.LabelEncoder()\n",
        "\n",
        "# converting string labels into numbers.\n",
        "#label=labelCode.fit_transform(Atributo)"
      ],
      "metadata": {
        "id": "GiHvTotNgdkQ"
      },
      "execution_count": 40,
      "outputs": []
    },
    {
      "cell_type": "markdown",
      "source": [
        "Splitting dataset\n"
      ],
      "metadata": {
        "id": "RLPNjLE1eKqO"
      }
    },
    {
      "cell_type": "code",
      "source": [
        "# import train_test_split function\n",
        "from sklearn.model_selection import train_test_split\n",
        "\n",
        "# input and outputs\n",
        "inputs = dataset.data\n",
        "outputs = dataset.target\n",
        "\n",
        "# split dataset into training set and test set\n",
        "X_train, X_test, y_train, y_test = train_test_split(inputs, outputs, test_size=0.3, random_state=1)"
      ],
      "metadata": {
        "id": "6N7ZANyCdtvN"
      },
      "execution_count": 41,
      "outputs": []
    },
    {
      "cell_type": "markdown",
      "source": [
        "Scaling the dataset"
      ],
      "metadata": {
        "id": "3Zz1vLCShHB8"
      }
    },
    {
      "cell_type": "code",
      "source": [
        "# importing standard scaler\n",
        "from sklearn.preprocessing import StandardScaler\n",
        "\n",
        "# scalling the input data\n",
        "sc_X = StandardScaler() \n",
        "X_train = sc_X.fit_transform(X_train)\n",
        "X_test = sc_X.fit_transform(X_test)"
      ],
      "metadata": {
        "id": "uvXOb603hMg5"
      },
      "execution_count": 42,
      "outputs": []
    },
    {
      "cell_type": "markdown",
      "source": [
        "Training the model\n"
      ],
      "metadata": {
        "id": "OWfXi2tZeRYy"
      }
    },
    {
      "cell_type": "code",
      "source": [
        "# import Gaussian Naive Bayes model\n",
        "from sklearn.naive_bayes import GaussianNB    https://scikit-learn.org/stable/modules/generated/sklearn.naive_bayes.GaussianNB.html\n",
        "\n",
        "# create a Gaussian Classifier\n",
        "classifer = GaussianNB()\n",
        "\n",
        "# train the model using the training sets\n",
        "classifer.fit(X_train, y_train)\n",
        "\n",
        "# predict the response for test dataset\n",
        "y_pred = classifer.predict(X_test)"
      ],
      "metadata": {
        "id": "FY6ZqlXudw9G"
      },
      "execution_count": 43,
      "outputs": []
    },
    {
      "cell_type": "markdown",
      "source": [
        "Evaluation"
      ],
      "metadata": {
        "id": "QdKSzt4jed6x"
      }
    },
    {
      "cell_type": "code",
      "source": [
        "# import scikit-learn metrics module for accuracy calculation\n",
        "from sklearn import metrics\n",
        "\n",
        "# printing accuracy\n",
        "print(\"Accuracy:\", metrics.accuracy_score(y_test, y_pred))"
      ],
      "metadata": {
        "colab": {
          "base_uri": "https://localhost:8080/"
        },
        "id": "7D5iYJwLeW5F",
        "outputId": "ff723bba-b2e2-48ea-ec4e-8c113538909c"
      },
      "execution_count": 44,
      "outputs": [
        {
          "output_type": "stream",
          "name": "stdout",
          "text": [
            "Accuracy: 0.9814814814814815\n"
          ]
        }
      ]
    },
    {
      "cell_type": "code",
      "source": [
        "import seaborn as sns\n",
        "from sklearn.metrics import confusion_matrix\n",
        "import matplotlib.pyplot as plt\n",
        "\n",
        "# passing actual and predicted values\n",
        "cm = confusion_matrix(y_test, y_pred)\n",
        "\n",
        "# true Write data values in each cell of the matrix\n",
        "sns.heatmap(cm, annot=True)\n",
        "plt.savefig('confusion.png')"
      ],
      "metadata": {
        "colab": {
          "base_uri": "https://localhost:8080/",
          "height": 265
        },
        "id": "dA0UEpihegZH",
        "outputId": "3042d14a-beb5-42dc-9cc9-d99f92c88218"
      },
      "execution_count": 45,
      "outputs": [
        {
          "output_type": "display_data",
          "data": {
            "text/plain": [
              "<Figure size 432x288 with 2 Axes>"
            ],
            "image/png": "[encoded data removed]"
          },
          "metadata": {
            "needs_background": "light"
          }
        }
      ]
    },
    {
      "cell_type": "code",
      "source": [
        "# Importing classification report\n",
        "from sklearn.metrics import classification_report\n",
        "\n",
        "# printing the report\n",
        "print(classification_report(y_test, y_pred))"
      ],
      "metadata": {
        "colab": {
          "base_uri": "https://localhost:8080/"
        },
        "id": "LhSrbcR1en_3",
        "outputId": "7489cee9-e609-4167-af2f-17d21476e399"
      },
      "execution_count": 46,
      "outputs": [
        {
          "output_type": "stream",
          "name": "stdout",
          "text": [
            "              precision    recall  f1-score   support\n",
            "\n",
            "           0       1.00      0.96      0.98        23\n",
            "           1       0.95      1.00      0.97        19\n",
            "           2       1.00      1.00      1.00        12\n",
            "\n",
            "    accuracy                           0.98        54\n",
            "   macro avg       0.98      0.99      0.98        54\n",
            "weighted avg       0.98      0.98      0.98        54\n",
            "\n"
          ]
        }
      ]
    }
  ]
}