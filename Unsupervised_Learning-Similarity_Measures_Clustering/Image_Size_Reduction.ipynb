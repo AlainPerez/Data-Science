{
  "cells": [
    {
      "cell_type": "markdown",
      "metadata": {
        "id": "vre5v41WyPRv"
      },
      "source": [
        "#Aplicar clustering para comprimir Imágenes"
      ]
    },
    {
      "cell_type": "code",
      "execution_count": null,
      "metadata": {
        "id": "FKaai0SDibcJ",
        "vscode": {
          "languageId": "python"
        }
      },
      "outputs": [],
      "source": [
        "import numpy as np\n",
        "import matplotlib.pyplot as plt\n",
        "from sklearn.cluster import KMeans\n",
        "from sklearn.metrics import pairwise_distances_argmin\n",
        "from sklearn.utils import shuffle\n",
        "from time import time\n",
        "from PIL import Image\n",
        "import zipfile\n",
        "import imageio"
      ]
    },
    {
      "cell_type": "code",
      "execution_count": null,
      "metadata": {
        "id": "fQfA5wvkHdJv",
        "vscode": {
          "languageId": "python"
        }
      },
      "outputs": [],
      "source": [
        "# número de CLUSTERS\n",
        "n_colors = 64\n",
        "image_loc = 'content/drive/My Drive/IMG_20191122_171221.jpg'\n",
        "image_location = '/'+image_loc\n",
        "\n",
        "\n",
        "# Load the upload photo\n",
        "imagen_ejemplo = Image.open(image_location)\n",
        "\n",
        "# Convert to floats instead of the default 8 bits integer coding dividing by 255 \n",
        "imagen_ejemplo = np.array(imagen_ejemplo, dtype=np.float64) / 255   # IMAGEN ORIGINAL\n",
        "\n",
        "# Transform Image to a 2D numpy array.\n",
        "w, h, d = original_shape = tuple(imagen_ejemplo.shape)\n",
        "assert d == 3\n",
        "image_array = np.reshape(imagen_ejemplo, (w * h, d))\n",
        "\n",
        "print(\"Fitting model on a small sub-sample of the data (3000 pixels)\")\n",
        "t0 = time()\n",
        "image_array_sample = shuffle(image_array, random_state=0)[:3000]\n",
        "\n",
        "# Clusterizar los colores \n",
        "kmeans = KMeans(n_clusters=n_colors, random_state=0).fit(image_array_sample)\n",
        "print(\"done in %0.3fs.\" % (time() - t0))\n",
        "\n",
        "# Get labels for all points\n",
        "print(\"Predicting color indices on the full image (k-means)\")\n",
        "t0 = time()\n",
        "labels = kmeans.predict(image_array)  #Asigna el centroide más cercano (predicción) a cada pixel\n",
        "print(\"done in %0.3fs.\" % (time() - t0))\n",
        "\n",
        "print(\"Predicting color indices on the full image (random)\")\n",
        "codebook_random = shuffle(image_array, random_state=0)[:n_colors]\n",
        "t0 = time()\n",
        "labels_random = pairwise_distances_argmin(codebook_random, image_array, axis=0)\n",
        "print(\"done in %0.3fs.\" % (time() - t0))\n",
        "\n",
        "\n",
        "def recreate_image(codebook, labels, w, h):\n",
        "    \"\"\"Recreate the (compressed) image from the code book & labels\"\"\"\n",
        "    d = codebook.shape[1]\n",
        "    image = np.zeros((w, h, d))\n",
        "    label_idx = 0\n",
        "    for i in range(w):\n",
        "        for j in range(h):\n",
        "            image[i][j] = codebook[labels[label_idx]]\n",
        "            label_idx += 1\n",
        "    return image\n"
      ]
    },
    {
      "cell_type": "code",
      "execution_count": null,
      "metadata": {
        "id": "1IDrvFGOODop",
        "vscode": {
          "languageId": "python"
        }
      },
      "outputs": [],
      "source": [
        "# Display all results, alongside original image\n",
        "\n",
        "my_zipfile = zipfile.ZipFile('/content/NewZipfile.zip','w')  #Compresión de la IMAGEN para ver diferencias\n",
        "\n",
        "plt.figure(1)\n",
        "plt.clf()\n",
        "plt.axis('off')\n",
        "plt.title('Original image')\n",
        "my_zipfile.write(image_location)\n",
        "print('Compresión ORIGINAL: ',round(my_zipfile.getinfo(image_loc).file_size/(1024*1024), 2), 'MB' )\n",
        "plt.imshow(imagen_ejemplo,aspect='auto')\n",
        "\n",
        "\n",
        "plt.figure(2)\n",
        "plt.clf()\n",
        "plt.axis('off')\n",
        "imagen_clusterizada = recreate_image(kmeans.cluster_centers_, labels, w, h)\n",
        "imageio.imwrite('/content/compressed_kmeans.jpg', imagen_clusterizada)\n",
        "my_zipfile.write('/content/compressed_kmeans.jpg')\n",
        "plt.title('Quantized image (64 colors, K-Means)')\n",
        "print(\"Compresión KMEANS en Bytes: \",round(my_zipfile.getinfo('content/compressed_kmeans.jpg').file_size/(1024*1024), 2), 'MB')\n",
        "plt.imshow(imagen_clusterizada, aspect='auto')\n",
        "\n",
        "\n",
        "plt.figure(3)\n",
        "plt.clf()\n",
        "plt.axis('off')\n",
        "imagen_recreada=recreate_image(codebook_random, labels_random, w, h)\n",
        "imageio.imwrite('/content/compressed_random.jpg', imagen_clusterizada)\n",
        "my_zipfile.write('/content/compressed_random.jpg')\n",
        "plt.title('Quantized image (64 colors, Random)')\n",
        "print(\"Compresión KMEANS en Bytes: \",round(my_zipfile.getinfo('content/compressed_random.jpg').file_size/(1024*1024), 2), 'MB')\n",
        "plt.imshow(imagen_recreada, aspect='auto')\n",
        "plt.show()\n",
        "my_zipfile.close()"
      ]
    }
  ],
  "metadata": {
    "accelerator": "TPU",
    "colab": {
      "collapsed_sections": [],
      "machine_shape": "hm",
      "name": "Módulo_No-Supervisado_Clustering.ipynb",
      "provenance": [],
      "toc_visible": true
    },
    "kernelspec": {
      "display_name": "Python 3",
      "name": "python3"
    }
  },
  "nbformat": 4,
  "nbformat_minor": 0
}
